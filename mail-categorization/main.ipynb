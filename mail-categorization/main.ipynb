{
 "cells": [
  {
   "cell_type": "code",
   "execution_count": 1,
   "id": "fb6bae9f",
   "metadata": {},
   "outputs": [],
   "source": [
    "import sys\n",
    "from pathlib import Path\n",
    "\n",
    "sys.path.append(str(Path().resolve()))"
   ]
  },
  {
   "cell_type": "code",
   "execution_count": 1,
   "id": "9ede626b",
   "metadata": {},
   "outputs": [
    {
     "name": "stdout",
     "output_type": "stream",
     "text": [
      "c:\\Users\\comer\\OneDrive\\Masaüstü\\project_bert\\gmail\n"
     ]
    }
   ],
   "source": [
    "import os\n",
    "print(os.getcwd())\n"
   ]
  },
  {
   "cell_type": "code",
   "execution_count": 1,
   "id": "1336f1c7",
   "metadata": {},
   "outputs": [],
   "source": [
    "from fetch_mails import get_gmail_service, fetch_messages, length_of_mail\n",
    "from googleapiclient.errors import HttpError\n",
    "import pandas as pd"
   ]
  },
  {
   "cell_type": "code",
   "execution_count": 2,
   "id": "dfaeb318",
   "metadata": {},
   "outputs": [
    {
     "name": "stdout",
     "output_type": "stream",
     "text": [
      "Please visit this URL to authorize this application: https://accounts.google.com/o/oauth2/auth?response_type=code&client_id=1063709963049-89rkbl03gv9uug4dvee5tsblpnfdr8ct.apps.googleusercontent.com&redirect_uri=http%3A%2F%2Flocalhost%3A21474%2F&scope=https%3A%2F%2Fwww.googleapis.com%2Fauth%2Fgmail.readonly&state=lSb0O05bUwEoh3OOJsGjWgJSjFGlaV&access_type=offline\n",
      "Fetched 500 messages...\n",
      "Fetched 847 messages...\n",
      "\n",
      " Saved 847 messages\n"
     ]
    }
   ],
   "source": [
    "try:\n",
    "    service = get_gmail_service()\n",
    "    fetch_messages(service) # Fetch messages and save to json file\n",
    "except HttpError as err:\n",
    "    print(f\"An error occurred: {err}\")"
   ]
  },
  {
   "cell_type": "code",
   "execution_count": 6,
   "id": "9aa0663a",
   "metadata": {},
   "outputs": [
    {
     "data": {
      "text/html": [
       "<div>\n",
       "<style scoped>\n",
       "    .dataframe tbody tr th:only-of-type {\n",
       "        vertical-align: middle;\n",
       "    }\n",
       "\n",
       "    .dataframe tbody tr th {\n",
       "        vertical-align: top;\n",
       "    }\n",
       "\n",
       "    .dataframe thead th {\n",
       "        text-align: right;\n",
       "    }\n",
       "</style>\n",
       "<table border=\"1\" class=\"dataframe\">\n",
       "  <thead>\n",
       "    <tr style=\"text-align: right;\">\n",
       "      <th></th>\n",
       "      <th>id</th>\n",
       "      <th>sender</th>\n",
       "      <th>subject</th>\n",
       "      <th>category</th>\n",
       "    </tr>\n",
       "  </thead>\n",
       "  <tbody>\n",
       "    <tr>\n",
       "      <th>0</th>\n",
       "      <td>1</td>\n",
       "      <td>Google &lt;no-reply@accounts.google.com&gt;</td>\n",
       "      <td>Güvenlik uyarısı</td>\n",
       "      <td>Security / Account Alerts</td>\n",
       "    </tr>\n",
       "    <tr>\n",
       "      <th>1</th>\n",
       "      <td>2</td>\n",
       "      <td>Uber &lt;uber@uber.com&gt;</td>\n",
       "      <td>Bu yaz seyahat mi ediyorsunuz Batuhan?</td>\n",
       "      <td>Travel &amp; Transport</td>\n",
       "    </tr>\n",
       "    <tr>\n",
       "      <th>2</th>\n",
       "      <td>3</td>\n",
       "      <td>Quora Digest &lt;english-quora-digest@quora.com&gt;</td>\n",
       "      <td>Do antidepressants change personality?</td>\n",
       "      <td>Newsletters &amp; Learning</td>\n",
       "    </tr>\n",
       "    <tr>\n",
       "      <th>3</th>\n",
       "      <td>4</td>\n",
       "      <td>Medium Daily Digest &lt;noreply@medium.com&gt;</td>\n",
       "      <td>Best AI Certification to Land a High-Paying Jo...</td>\n",
       "      <td>Newsletters &amp; Learning</td>\n",
       "    </tr>\n",
       "    <tr>\n",
       "      <th>4</th>\n",
       "      <td>5</td>\n",
       "      <td>Google Cloud &lt;googlecloud@google.com&gt;</td>\n",
       "      <td>Tam hesap erişimini etkinleştirdiniz</td>\n",
       "      <td>Security / Account Alerts</td>\n",
       "    </tr>\n",
       "    <tr>\n",
       "      <th>...</th>\n",
       "      <td>...</td>\n",
       "      <td>...</td>\n",
       "      <td>...</td>\n",
       "      <td>...</td>\n",
       "    </tr>\n",
       "    <tr>\n",
       "      <th>842</th>\n",
       "      <td>843</td>\n",
       "      <td>Exxen &lt;info@e.exxen.com&gt;</td>\n",
       "      <td>Email doğrulama</td>\n",
       "      <td>Security / Account Alerts</td>\n",
       "    </tr>\n",
       "    <tr>\n",
       "      <th>843</th>\n",
       "      <td>844</td>\n",
       "      <td>\"Dünya Halleri\" &lt;dunyahalleri@substack.com&gt;</td>\n",
       "      <td>Dünya Halleri'ne hoşgeldiniz</td>\n",
       "      <td>Newsletters &amp; Learning</td>\n",
       "    </tr>\n",
       "    <tr>\n",
       "      <th>844</th>\n",
       "      <td>845</td>\n",
       "      <td>\"Amazon.com\" &lt;digital-no-reply@amazon.com&gt;</td>\n",
       "      <td>Amazon.com order of D01-9448599-6688222.</td>\n",
       "      <td>Shopping / Orders &amp; Receipts</td>\n",
       "    </tr>\n",
       "    <tr>\n",
       "      <th>845</th>\n",
       "      <td>846</td>\n",
       "      <td>Amazon &lt;account-update@amazon.com&gt;</td>\n",
       "      <td>Verify your new Amazon account</td>\n",
       "      <td>Security / Account Alerts</td>\n",
       "    </tr>\n",
       "    <tr>\n",
       "      <th>846</th>\n",
       "      <td>847</td>\n",
       "      <td>Google Topluluk Ekibi &lt;googlecommunityteam-nor...</td>\n",
       "      <td>Batuhan, yeni Google Hesabınızın kurulumunu ta...</td>\n",
       "      <td>Utilities &amp; Providers</td>\n",
       "    </tr>\n",
       "  </tbody>\n",
       "</table>\n",
       "<p>847 rows × 4 columns</p>\n",
       "</div>"
      ],
      "text/plain": [
       "      id                                             sender  \\\n",
       "0      1              Google <no-reply@accounts.google.com>   \n",
       "1      2                               Uber <uber@uber.com>   \n",
       "2      3      Quora Digest <english-quora-digest@quora.com>   \n",
       "3      4           Medium Daily Digest <noreply@medium.com>   \n",
       "4      5              Google Cloud <googlecloud@google.com>   \n",
       "..   ...                                                ...   \n",
       "842  843                           Exxen <info@e.exxen.com>   \n",
       "843  844        \"Dünya Halleri\" <dunyahalleri@substack.com>   \n",
       "844  845         \"Amazon.com\" <digital-no-reply@amazon.com>   \n",
       "845  846                 Amazon <account-update@amazon.com>   \n",
       "846  847  Google Topluluk Ekibi <googlecommunityteam-nor...   \n",
       "\n",
       "                                               subject  \\\n",
       "0                                     Güvenlik uyarısı   \n",
       "1               Bu yaz seyahat mi ediyorsunuz Batuhan?   \n",
       "2               Do antidepressants change personality?   \n",
       "3    Best AI Certification to Land a High-Paying Jo...   \n",
       "4                 Tam hesap erişimini etkinleştirdiniz   \n",
       "..                                                 ...   \n",
       "842                                    Email doğrulama   \n",
       "843                       Dünya Halleri'ne hoşgeldiniz   \n",
       "844           Amazon.com order of D01-9448599-6688222.   \n",
       "845                     Verify your new Amazon account   \n",
       "846  Batuhan, yeni Google Hesabınızın kurulumunu ta...   \n",
       "\n",
       "                         category  \n",
       "0       Security / Account Alerts  \n",
       "1              Travel & Transport  \n",
       "2          Newsletters & Learning  \n",
       "3          Newsletters & Learning  \n",
       "4       Security / Account Alerts  \n",
       "..                            ...  \n",
       "842     Security / Account Alerts  \n",
       "843        Newsletters & Learning  \n",
       "844  Shopping / Orders & Receipts  \n",
       "845     Security / Account Alerts  \n",
       "846         Utilities & Providers  \n",
       "\n",
       "[847 rows x 4 columns]"
      ]
     },
     "execution_count": 6,
     "metadata": {},
     "output_type": "execute_result"
    }
   ],
   "source": [
    "import json\n",
    "import pandas as pd\n",
    "def load_labels(fp):\n",
    "    \"\"\"Flatten every object’s 'results' or 'result' list into one list.\"\"\"\n",
    "    data = json.load(open(fp))\n",
    "    rows = []\n",
    "    for block in data:\n",
    "        rows.extend(block.get(\"results\", block.get(\"result\", [])))\n",
    "    return pd.DataFrame(rows) \n",
    "\n",
    "def load_meta(fp):\n",
    "    return pd.read_json(fp)\n",
    "\n",
    "labels_df = load_labels(\"data/labeled_emails.json\")\n",
    "meta_df   = load_meta(\"data/raw_emails.json\")\n",
    "\n",
    "meta_df.merge(labels_df, on=\"id\", how=\"inner\")"
   ]
  },
  {
   "cell_type": "code",
   "execution_count": 11,
   "id": "72ec8478",
   "metadata": {},
   "outputs": [
    {
     "data": {
      "text/plain": [
       "category\n",
       "Newsletters & Learning            330\n",
       "Security / Account Alerts         126\n",
       "Shopping / Orders & Receipts      106\n",
       "Finance & Bills                    79\n",
       "Miscellaneous / Other              56\n",
       "Support & Customer Service         40\n",
       "Travel & Transport                 36\n",
       "Tech Tools & Pro Services          32\n",
       "Utilities & Providers              18\n",
       "Personal / Work Correspondence     14\n",
       "Social & Community                 10\n",
       "Name: count, dtype: int64"
      ]
     },
     "execution_count": 11,
     "metadata": {},
     "output_type": "execute_result"
    }
   ],
   "source": [
    "from datasets import load_from_disk\n",
    "\n",
    "df = load_from_disk(\"data/processed-Dataset\").to_pandas()\n",
    "df[\"category\"].value_counts()"
   ]
  },
  {
   "cell_type": "code",
   "execution_count": null,
   "id": "a5c31c75",
   "metadata": {},
   "outputs": [],
   "source": []
  }
 ],
 "metadata": {
  "kernelspec": {
   "display_name": "base",
   "language": "python",
   "name": "python3"
  },
  "language_info": {
   "codemirror_mode": {
    "name": "ipython",
    "version": 3
   },
   "file_extension": ".py",
   "mimetype": "text/x-python",
   "name": "python",
   "nbconvert_exporter": "python",
   "pygments_lexer": "ipython3",
   "version": "3.11.5"
  }
 },
 "nbformat": 4,
 "nbformat_minor": 5
}
