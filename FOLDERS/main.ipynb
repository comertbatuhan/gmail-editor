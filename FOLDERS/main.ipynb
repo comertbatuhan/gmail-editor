{
 "cells": [
  {
   "cell_type": "code",
   "execution_count": 1,
   "id": "fb6bae9f",
   "metadata": {},
   "outputs": [],
   "source": [
    "import sys\n",
    "from pathlib import Path\n",
    "\n",
    "sys.path.append(str(Path().resolve()))"
   ]
  },
  {
   "cell_type": "code",
   "execution_count": 1,
   "id": "9ede626b",
   "metadata": {},
   "outputs": [
    {
     "name": "stdout",
     "output_type": "stream",
     "text": [
      "c:\\Users\\comer\\OneDrive\\Masaüstü\\project_bert\\gmail\n"
     ]
    }
   ],
   "source": [
    "import os\n",
    "print(os.getcwd())\n"
   ]
  },
  {
   "cell_type": "code",
   "execution_count": 1,
   "id": "1336f1c7",
   "metadata": {},
   "outputs": [],
   "source": [
    "from fetch_mails import get_gmail_service, fetch_messages, length_of_mail\n",
    "from googleapiclient.errors import HttpError\n",
    "import pandas as pd"
   ]
  },
  {
   "cell_type": "code",
   "execution_count": 2,
   "id": "dfaeb318",
   "metadata": {},
   "outputs": [
    {
     "name": "stdout",
     "output_type": "stream",
     "text": [
      "Please visit this URL to authorize this application: https://accounts.google.com/o/oauth2/auth?response_type=code&client_id=1063709963049-89rkbl03gv9uug4dvee5tsblpnfdr8ct.apps.googleusercontent.com&redirect_uri=http%3A%2F%2Flocalhost%3A21474%2F&scope=https%3A%2F%2Fwww.googleapis.com%2Fauth%2Fgmail.readonly&state=lSb0O05bUwEoh3OOJsGjWgJSjFGlaV&access_type=offline\n",
      "Fetched 500 messages...\n",
      "Fetched 847 messages...\n",
      "\n",
      " Saved 847 messages\n"
     ]
    }
   ],
   "source": [
    "try:\n",
    "    service = get_gmail_service()\n",
    "    fetch_messages(service) # Fetch messages and save to json file\n",
    "except HttpError as err:\n",
    "    print(f\"An error occurred: {err}\")"
   ]
  }
 ],
 "metadata": {
  "kernelspec": {
   "display_name": "base",
   "language": "python",
   "name": "python3"
  },
  "language_info": {
   "codemirror_mode": {
    "name": "ipython",
    "version": 3
   },
   "file_extension": ".py",
   "mimetype": "text/x-python",
   "name": "python",
   "nbconvert_exporter": "python",
   "pygments_lexer": "ipython3",
   "version": "3.11.5"
  }
 },
 "nbformat": 4,
 "nbformat_minor": 5
}
